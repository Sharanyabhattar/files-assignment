{
  "nbformat": 4,
  "nbformat_minor": 0,
  "metadata": {
    "colab": {
      "provenance": []
    },
    "kernelspec": {
      "name": "python3",
      "display_name": "Python 3"
    },
    "language_info": {
      "name": "python"
    }
  },
  "cells": [
    {
      "cell_type": "markdown",
      "source": [
        "1. What is the difference between interpreted and compiled languages?\n",
        "- The difference between interpreted and compiled languages comes down to how code gets translated into something your computer can actually run (aka machine code).\n",
        "\n",
        "Compiled Languages\n",
        "In compiled languages, the whole program is translated before it runs.\n",
        "\n",
        " How it works:\n",
        "Code → Compiler → Machine Code (binary)\n",
        "\n",
        "Then you run the compiled file.\n",
        "\n",
        " Pros:\n",
        "Faster execution (no translation at runtime)\n",
        "\n",
        "Better optimization by the compiler\n",
        "\n",
        "Often used for performance-critical applications\n",
        "\n",
        " Cons:\n",
        "Slower to compile\n",
        "\n",
        "Harder to debug (binary code)\n",
        "\n",
        "Not portable (you compile separately for each platform)\n",
        "\n",
        " Examples:\n",
        "C, C++, Rust, Go\n",
        "\n",
        " Interpreted Languages\n",
        "In interpreted languages, code is executed line-by-line at runtime by an interpreter.\n",
        "\n",
        " How it works:\n",
        "Code → Interpreter → Executed directly\n",
        "\n",
        " Pros:\n",
        "Easy to test and debug\n",
        "\n",
        "Portable (same code runs on any machine with the interpreter)\n",
        "\n",
        "Great for scripting, automation, and rapid development\n",
        "\n",
        "Cons:\n",
        "Slower execution (translated on the fly)\n",
        "\n",
        "May use more memory\n",
        "\n",
        " Examples:\n",
        "Python, JavaScript, Ruby, PHP\n",
        "\n",
        "  — some languages are both!\n",
        "Languages like Python and Java have a mix:\n",
        "\n",
        "Python is interpreted, but it compiles to bytecode (.pyc) before running.\n",
        "\n",
        "Java is compiled to bytecode, then interpreted or JIT-compiled by the JVM.\n",
        "\n",
        "2.  What is exception handling in Python\n",
        "- Exception handling in Python is a way to deal with errors gracefully, so your program doesn’t crash when something unexpected happens.\n",
        "An exception is an error that occurs at runtime — like dividing by zero or trying to access a file that doesn’t exist.\n",
        "\n",
        "3. What is the purpose of the finally block in exception handling?\n",
        "- Purpose of finally:\n",
        "Ensure certain code runs no matter what (whether an exception is raised or not).\n",
        "\n",
        "Perfect for cleaning up resources like:\n",
        "\n",
        "Closing files\n",
        "\n",
        "Releasing database connections\n",
        "\n",
        "Releasing locks\n",
        "\n",
        "Disconnecting from networks.\n",
        "\n",
        "4.  What is logging in Python?\n",
        "- Logging in Python is a way to track events that happen while your program runs — like a smarter, more flexible version of print(). It helps you:\n",
        "\n",
        "Debug your code\n",
        "\n",
        "Monitor what's happening in production\n",
        "\n",
        "Save error reports and messages to files\n",
        "\n",
        "Python has a built-in module called logging that makes all this easy to manage.\n",
        "\n",
        "5. What is the significance of the __del__ method in Python?\n",
        "- __del__ is called automatically when an object is about to be destroyed, i.e., when it’s being garbage collected.\n",
        "\n",
        "Think of it like the opposite of __init__:\n",
        "\n",
        "__init__() → sets up the object\n",
        "\n",
        "__del__() → cleans it up when it’s done\n",
        "\n",
        "Use Cases:\n",
        "Releasing external resources like:\n",
        "\n",
        "Closing files\n",
        "\n",
        "Closing network/database connections\n",
        "\n",
        "Releasing memory not managed by Python.\n",
        "\n",
        "6. What is the difference between import and from ... import in Python?\n",
        "-  import vs from ... import in Python\n",
        "Both are used to bring in code from external modules or packages — but they work a little differently.\n",
        ". import module:\n",
        "Pros:\n",
        "Keeps the namespace clean\n",
        "\n",
        "Makes it obvious where functions/variables come from\n",
        "\n",
        " Cons:\n",
        "You have to prefix everything with the module name.\n",
        ". from module import something\n",
        "Pros:\n",
        "Shorter, cleaner syntax\n",
        "\n",
        "Handy if you only need one or two things\n",
        "\n",
        " Cons:\n",
        "Can clutter your namespace\n",
        "\n",
        "Might accidentally overwrite other variables/functions\n",
        "  example:\n",
        "\n",
        "\n",
        "\n",
        "\n",
        "\n",
        "\n",
        "\n",
        "7. How can you handle multiple exceptions in Python?\n",
        "- 1. Catch multiple exceptions with a single except block\n",
        "If you want to handle different exceptions the same way:"
      ],
      "metadata": {
        "id": "amlW0Qqpn9R8"
      }
    },
    {
      "cell_type": "code",
      "source": [
        "from math import sqrt\n",
        "from cmath import sqrt  # Now you've overwritten math.sqrt\n"
      ],
      "metadata": {
        "id": "bdIWYG7tvtPk"
      },
      "execution_count": null,
      "outputs": []
    },
    {
      "cell_type": "markdown",
      "source": [
        "12.  What are the basic steps involved in exception handling in Python?\n",
        "- 1. Use a try block to wrap risky code\n",
        "This is where you place the code that might cause an exception."
      ],
      "metadata": {
        "id": "aDIpdiWkk533"
      }
    },
    {
      "cell_type": "code",
      "source": [
        "try:\n",
        "    # risky code here\n",
        "    x = int(input(\"Enter a number: \"))\n"
      ],
      "metadata": {
        "id": "EeT7TQRynFMx"
      },
      "execution_count": null,
      "outputs": []
    },
    {
      "cell_type": "markdown",
      "source": [
        "2. Use one or more except blocks to catch and handle specific exceptions\n",
        "Each except block can catch a specific type of error."
      ],
      "metadata": {
        "id": "gNpdEF_tnKPs"
      }
    },
    {
      "cell_type": "code",
      "source": [
        "except ValueError:\n",
        "    print(\"Oops! That's not a valid number.\")\n"
      ],
      "metadata": {
        "id": "NxWAjbUtnQ1B"
      },
      "execution_count": null,
      "outputs": []
    },
    {
      "cell_type": "markdown",
      "source": [
        "3. (Optional) Use an else block for code that should run only if no exception occurs"
      ],
      "metadata": {
        "id": "BoZaLadcnTno"
      }
    },
    {
      "cell_type": "code",
      "source": [
        "else:\n",
        "    print(\"Great! You entered:\", x)\n"
      ],
      "metadata": {
        "id": "oYa0x6-znYXO"
      },
      "execution_count": null,
      "outputs": []
    },
    {
      "cell_type": "markdown",
      "source": [
        "4. (Optional) Use a finally block for code that should run no matter what\n",
        "This is often used for cleanup actions (like closing files or network connections)."
      ],
      "metadata": {
        "id": "5SOK8EsNna3V"
      }
    },
    {
      "cell_type": "code",
      "source": [
        "finally:\n",
        "    print(\"This will run whether or not an exception occurred.\")\n"
      ],
      "metadata": {
        "id": "K4H-7jUxnd5G"
      },
      "execution_count": null,
      "outputs": []
    },
    {
      "cell_type": "markdown",
      "source": [
        "8. What is the purpose of the with statement when handling files in Python?\n",
        "-   Purpose of with when handling files:\n",
        "It automatically manages resources, like opening and closing a file, so you don’t have to manually call file.close().\n",
        "\n",
        "Example without with:\n"
      ],
      "metadata": {
        "id": "rQiSRVqhRj_I"
      }
    },
    {
      "cell_type": "code",
      "source": [
        "file = open(\"example.txt\", \"r\")\n",
        "try:\n",
        "    content = file.read()\n",
        "    print(content)\n",
        "finally:\n",
        "    file.close()  # You must remember to close the file\n"
      ],
      "metadata": {
        "id": "hWUNyqy-pVej"
      },
      "execution_count": null,
      "outputs": []
    },
    {
      "cell_type": "markdown",
      "source": [
        " Example using with:\n",
        "\n"
      ],
      "metadata": {
        "id": "mWt_oQAhpaXN"
      }
    },
    {
      "cell_type": "code",
      "source": [
        " with open(\"example.txt\", \"r\") as file:\n",
        "    content = file.read()\n",
        "    print(content)\n",
        "# File is automatically closed here, even if an error occurs\n",
        "\n"
      ],
      "metadata": {
        "id": "XdZShoIIpdPH"
      },
      "execution_count": null,
      "outputs": []
    },
    {
      "cell_type": "markdown",
      "source": [
        "Key Benefits of Using with for Files:\n",
        ". Cleaner, more readable code\n",
        "\n",
        ". Automatic cleanup (file is closed even if there's an exception)\n",
        "\n",
        ". No need to remember file.close()\n",
        "\n",
        ". Reduces chance of resource leaks (like open file handles)\n",
        "\n",
        "9. What is the difference between multithreading and multiprocessing?\n",
        "-   Multithreading:\n",
        "Uses multiple threads within a single process.\n",
        "\n",
        "Threads share the same memory space.\n",
        "\n",
        "Great for I/O-bound tasks (e.g., file read/write, network operations).\n",
        "\n",
        " Pros:\n",
        "Lightweight — threads are cheaper to create than processes.\n",
        "\n",
        "Shared memory — easier to share data between threads.\n",
        "\n",
        " Cons:\n",
        "Affected by the GIL (Global Interpreter Lock) in CPython — only one thread executes Python bytecode at a time.\n",
        "\n",
        "Not ideal for CPU-heavy tasks.\n",
        "\n",
        " Example use cases:\n",
        "Downloading multiple files at once.\n",
        "\n",
        "Web scraping with multiple connections.\n",
        "\n",
        " Multiprocessing:\n",
        "Uses multiple processes, each with its own Python interpreter and memory space.\n",
        "\n",
        "Bypasses the GIL.\n",
        "\n",
        "Best for CPU-bound tasks (e.g., calculations, data crunching).\n",
        "\n",
        " Pros:\n",
        "True parallelism on multi-core CPUs.\n",
        "\n",
        "Avoids GIL limitations.\n",
        "\n",
        " Cons:\n",
        "Heavier — processes use more memory.\n",
        "\n",
        "More overhead with inter-process communication.\n",
        "\n",
        " Example use cases:\n",
        "Image processing, simulations, or anything computation-intensive.\n",
        "\n",
        "10. What are the advantages of using logging in a program?\n",
        "- Advantages of Using Logging in a Program\n",
        "1.  Debugging Made Easy\n",
        "Logging helps you trace what your code is doing—especially when something goes wrong.\n",
        "\n"
      ],
      "metadata": {
        "id": "Nv-9xwmfpnEA"
      }
    },
    {
      "cell_type": "code",
      "source": [
        "logging.debug(\"User input received: %s\", user_input)\n"
      ],
      "metadata": {
        "id": "FM3cKQ2gqlBI"
      },
      "execution_count": null,
      "outputs": []
    },
    {
      "cell_type": "markdown",
      "source": [
        "2.  Persistent Records\n",
        "Unlike print(), logs can be saved to files for later analysis. Super helpful for post-crash investigations.\n",
        "\n",
        "\n"
      ],
      "metadata": {
        "id": "4RkbEcHTqoYw"
      }
    },
    {
      "cell_type": "code",
      "source": [
        "logging.basicConfig(filename='app.log', level=logging.INFO)\n"
      ],
      "metadata": {
        "id": "Agb-1m-pqtE8"
      },
      "execution_count": null,
      "outputs": []
    },
    {
      "cell_type": "markdown",
      "source": [
        "3.  Different Log Levels\n",
        "You can categorize messages:\n",
        "\n",
        "DEBUG - Detailed info (for devs)\n",
        "\n",
        "INFO - General events (like user login)\n",
        "\n",
        "WARNING - Something might be wrong\n",
        "\n",
        "ERROR - An error occurred\n",
        "\n",
        "CRITICAL - Major failure\n",
        "\n"
      ],
      "metadata": {
        "id": "eMZ2lxn-qx7m"
      }
    },
    {
      "cell_type": "code",
      "source": [
        "logging.warning(\"Disk space is running low!\")\n"
      ],
      "metadata": {
        "id": "E1-eQEqZq9kV"
      },
      "execution_count": null,
      "outputs": []
    },
    {
      "cell_type": "markdown",
      "source": [
        "4.  Flexible Configuration\n",
        "Logs can go to:\n",
        "\n",
        ". Console\n",
        "\n",
        ". Files\n",
        "\n",
        ". Remote servers\n",
        "\n",
        ". Email (yes, really!)\n",
        "\n",
        "And you can format them however you like.\n",
        "\n",
        "5.  Better Than print()\n",
        "print() clutters code and is hard to manage at scale.\n",
        "\n",
        "logging is configurable, can be turned off/on, and is more professional.\n",
        "\n",
        "6. Thread & Process Safe\n",
        "Python’s logging module is thread-safe and works well with multiprocessing, so logs from different threads/processes won’t get jumbled.\n",
        "\n",
        "  Example:"
      ],
      "metadata": {
        "id": "RsRx7tC_q-m9"
      }
    },
    {
      "cell_type": "code",
      "source": [
        "import logging\n",
        "\n",
        "logging.basicConfig(\n",
        "    level=logging.INFO,\n",
        "    format='%(asctime)s - %(levelname)s - %(message)s'\n",
        ")\n",
        "\n",
        "logging.info(\"Program started\")\n",
        "logging.error(\"Something went wrong\")\n"
      ],
      "metadata": {
        "id": "iT_XzRh0rYwX"
      },
      "execution_count": null,
      "outputs": []
    },
    {
      "cell_type": "markdown",
      "source": [
        "11. What is memory management in Python?\n",
        "- Memory management in Python is all about how Python allocates and frees up memory during program execution—behind the scenes, it's doing a lot of smart stuff so you don't usually have to worry about it!\n",
        "  Memory Management in Python?\n",
        "It refers to:\n",
        "\n",
        "Allocating memory when you create variables, objects, etc.\n",
        "\n",
        "Reclaiming (freeing) memory that's no longer needed.\n",
        "\n",
        "Python has a built-in memory manager that handles this automatically.\n",
        "\n",
        "Key Components of Python's Memory Management:\n",
        "1.  Automatic Memory Allocation\n",
        "When you create variables or data structures, Python automatically finds memory space and assigns it."
      ],
      "metadata": {
        "id": "8tfRHXIcrcMw"
      }
    },
    {
      "cell_type": "code",
      "source": [
        "x = [1, 2, 3]  # Python allocates memory for the list\n"
      ],
      "metadata": {
        "id": "6YY3ncZfr2BY"
      },
      "execution_count": null,
      "outputs": []
    },
    {
      "cell_type": "markdown",
      "source": [
        "2.  Garbage Collection\n",
        "Python uses reference counting + a garbage collector to free up memory:\n",
        "\n",
        "When an object’s reference count drops to zero (nothing points to it anymore), it’s removed.\n",
        "\n",
        "The gc module helps clean up circular references (e.g., object A references B and B references A)."
      ],
      "metadata": {
        "id": "eMFWpCPpr38k"
      }
    },
    {
      "cell_type": "code",
      "source": [
        "import gc\n",
        "gc.collect()  # Manually trigger garbage collection (usually not needed)\n"
      ],
      "metadata": {
        "id": "owAHc59Ir90P"
      },
      "execution_count": null,
      "outputs": []
    },
    {
      "cell_type": "markdown",
      "source": [
        "3. Private Heap Space\n",
        "Python manages all memory in a private heap. Programmers don’t access it directly—Python does it for you.\n",
        "\n",
        "4.  Memory Pools\n",
        "Python (specifically CPython) uses a system called pymalloc, which pools memory to optimize small object allocations.\n",
        "\n",
        "5.  Reference Counting\n",
        "Every object keeps a count of references to it."
      ],
      "metadata": {
        "id": "knaAdaLgr_sN"
      }
    },
    {
      "cell_type": "code",
      "source": [
        "import sys\n",
        "\n",
        "a = []\n",
        "b = a\n",
        "print(sys.getrefcount(a))  # Will show the number of references\n"
      ],
      "metadata": {
        "id": "bb8ZioM4sM0p"
      },
      "execution_count": null,
      "outputs": []
    },
    {
      "cell_type": "markdown",
      "source": [
        "Why It Matters:\n",
        ". You don’t need to manually allocate or free memory like in C or C++.\n",
        "\n",
        ". But knowing how Python does it helps you write more efficient, less memory-hungry code.\n",
        "\n",
        "12.  What are the basic steps involved in exception handling in Python?\n",
        "-  Basic Steps in Exception Handling in Python\n",
        "1. Use a try block\n",
        "Wrap the code that might raise an exception.\n",
        "\n"
      ],
      "metadata": {
        "id": "kN-lXyN3sPJx"
      }
    },
    {
      "cell_type": "code",
      "source": [
        "try:\n",
        "    risky_code()\n"
      ],
      "metadata": {
        "id": "4UTB983HsjDn"
      },
      "execution_count": null,
      "outputs": []
    },
    {
      "cell_type": "markdown",
      "source": [
        "2. Use except blocks\n",
        "Catch and handle specific exceptions."
      ],
      "metadata": {
        "id": "UkUAasRAslxS"
      }
    },
    {
      "cell_type": "code",
      "source": [
        "except ValueError:\n",
        "    print(\"Oops! That was a ValueError.\")\n"
      ],
      "metadata": {
        "id": "_qwkmLXLso2y"
      },
      "execution_count": null,
      "outputs": []
    },
    {
      "cell_type": "markdown",
      "source": [
        "You can also catch multiple exceptions or use a generic one:"
      ],
      "metadata": {
        "id": "V69wLOOzsr2b"
      }
    },
    {
      "cell_type": "code",
      "source": [
        "except (ValueError, TypeError):\n",
        "    print(\"Caught a ValueError or TypeError\")\n",
        "\n",
        "except Exception as e:\n",
        "    print(f\"General error: {e}\")\n"
      ],
      "metadata": {
        "id": "hhivZmZVsvFp"
      },
      "execution_count": null,
      "outputs": []
    },
    {
      "cell_type": "markdown",
      "source": [
        "3. (Optional) Use else\n",
        "This block runs if no exceptions were raised in the try."
      ],
      "metadata": {
        "id": "DcRAUYu6swxL"
      }
    },
    {
      "cell_type": "code",
      "source": [
        "else:\n",
        "    print(\"No errors, all good!\")\n"
      ],
      "metadata": {
        "id": "OFvZMWW6s0gK"
      },
      "execution_count": null,
      "outputs": []
    },
    {
      "cell_type": "markdown",
      "source": [
        "4. (Optional) Use finally\n",
        "This block always runs, whether or not an exception occurred. Great for cleanup tasks like closing files or connections."
      ],
      "metadata": {
        "id": "H5_UP1T6s2Ib"
      }
    },
    {
      "cell_type": "code",
      "source": [
        "finally:\n",
        "    print(\"Cleaning up!\")\n"
      ],
      "metadata": {
        "id": "AtDsyEres6EU"
      },
      "execution_count": null,
      "outputs": []
    },
    {
      "cell_type": "markdown",
      "source": [
        "Full Example:"
      ],
      "metadata": {
        "id": "Xz_XEvAVs9Ei"
      }
    },
    {
      "cell_type": "code",
      "source": [
        "try:\n",
        "    num = int(input(\"Enter a number: \"))\n",
        "    result = 10 / num\n",
        "except ValueError:\n",
        "    print(\"Not a valid number.\")\n",
        "except ZeroDivisionError:\n",
        "    print(\"Cannot divide by zero.\")\n",
        "else:\n",
        "    print(f\"Result is {result}\")\n",
        "finally:\n",
        "    print(\"Execution finished.\")\n"
      ],
      "metadata": {
        "id": "IjJqdf59tAkH"
      },
      "execution_count": null,
      "outputs": []
    },
    {
      "cell_type": "markdown",
      "source": [
        " Summary of Steps:\n",
        "1. try: Put risky code here.\n",
        "\n",
        "2. except: Handle errors.\n",
        "\n",
        "3. else: Run if no errors.\n",
        "\n",
        "4. finally: Always run for cleanup."
      ],
      "metadata": {
        "id": "l2JCxFUMtCXM"
      }
    },
    {
      "cell_type": "markdown",
      "source": [
        "13.  Why is memory management important in Python?\n",
        "-1. Efficient Use of Resources\n",
        "\n",
        "It ensures your program doesn’t use more memory than it needs.\n",
        "\n",
        "Helps keep applications lightweight and responsive.\n",
        "\n",
        "-2. Prevents Memory Leaks\n",
        "\n",
        "Good memory management makes sure unused data is removed.\n",
        "\n",
        "Avoids memory buildup that can slow down or crash your program.\n",
        "\n",
        "-3. Automatic Garbage Collection\n",
        "\n",
        "Python handles most of the cleanup for you.\n",
        "\n",
        "But understanding how it works helps you write better, faster code.\n",
        "\n",
        "-4. Supports Scalability\n",
        "\n",
        "Efficient memory use is essential for large applications or data-heavy tasks like machine learning or web apps.\n",
        "\n",
        "-5. Stability and Performance\n",
        "\n",
        "Reduces crashes and unexpected behavior caused by running out of memory.\n",
        "\n",
        "Keeps your programs running smoothly over time.\n",
        "\n",
        "14.  What is the role of try and except in exception handling?\n",
        "- Role of try and except in Exception Handling (Python):\n",
        "They are used to gracefully handle errors that may occur during the execution of a program — so it doesn't crash.\n",
        "\n",
        ". try Block:\n",
        "Used to wrap code that might raise an exception.\n",
        "\n",
        "Python \"tries\" to run this code.\n",
        "\n",
        ". except Block:\n",
        "Catches and handles the exception if one occurs in the try block.\n",
        "\n",
        "Prevents the program from crashing and lets you decide what to do instead.\n",
        "    uses:\n",
        "Without try and except, your program would stop when an error occurs. With them, you can:\n",
        "\n",
        ". Show a friendly error message\n",
        "\n",
        ". Retry an operation\n",
        "\n",
        ". Log the error\n",
        "\n",
        ". Keep the program running smoothly\n",
        "\n",
        "15. How does Python's garbage collection system work?\n",
        "-1. Reference Counting\n",
        ". Every object in Python has a reference count, which tracks how many references point to it.\n",
        "\n",
        ". When an object’s reference count drops to zero, it means no part of the program is using it, and it can be safely deleted.\n",
        "- 2. Garbage Collector for Cyclic References\n",
        ". Sometimes objects refer to each other in a cycle, so reference count never drops to zero.\n",
        "\n",
        ". Python has a built-in cyclic garbage collector in the gc module that detects and cleans up these cycles.\n",
        "-3. Generational Garbage Collection\n",
        "Python’s garbage collector organizes objects into generations:\n",
        ". Generation 0: New objects\n",
        "\n",
        ". Generation 1 & 2: Older objects that survived previous garbage collection.\n",
        "\n",
        "Older generations are collected less frequently, assuming long-lived objects are less likely to be garbage.\n",
        "\n",
        " Features:\n",
        " -. eference Counting:Deletes objects with zero references\n",
        "Cyclic GC:\tHandles circular references\n",
        "Generational GC:\tImproves performance with age-based tracking\n",
        "Manual Control:\tgc.collect() can be used to trigger cleanup manually.\n",
        "\n",
        "16.  What is the purpose of the else block in exception handling?\n",
        "- The else block is used to run code only if no exceptions were raised in the try block.\n",
        "its uses:\n",
        ". Helps separate error-handling code (except) from the normal logic.\n",
        "\n",
        ". Makes your code cleaner and easier to read.\n",
        "\n",
        ". Ensures that code which should only run when everything goes right is kept separate.\n",
        "Example:\n",
        "\n",
        "\n",
        "\n",
        "\n",
        "\n",
        "\n",
        "\n",
        "\n",
        "\n",
        "\n",
        "\n",
        "\n",
        "\n",
        "\n",
        "\n",
        "\n",
        "\n",
        "\n",
        "\n",
        "\n",
        "\n",
        "\n",
        "\n",
        "\n",
        "\n",
        "\n",
        "\n",
        "\n",
        "\n",
        "\n",
        "\n",
        "\n"
      ],
      "metadata": {
        "id": "EztnAywhRu3N"
      }
    },
    {
      "cell_type": "code",
      "source": [
        "try:\n",
        "    number = int(input(\"Enter a number: \"))\n",
        "except ValueError:\n",
        "    print(\"That's not a valid number!\")\n",
        "else:\n",
        "    print(f\"Great, you entered: {number}\")\n"
      ],
      "metadata": {
        "colab": {
          "base_uri": "https://localhost:8080/"
        },
        "id": "5FW12v6cXiwQ",
        "outputId": "36b32173-4431-4a1f-efd7-d18ff94670b2"
      },
      "execution_count": null,
      "outputs": [
        {
          "output_type": "stream",
          "name": "stdout",
          "text": [
            "Enter a number: 788\n",
            "Great, you entered: 788\n"
          ]
        }
      ]
    },
    {
      "cell_type": "markdown",
      "source": [
        "If you enter a valid number → it runs the else block.\n",
        "If an exception occurs → it skips else and goes to except.\n",
        "\n",
        "17. What are the common logging levels in Python?\n",
        "the common logging levels of python are:\n",
        "DEBUG: numerical value is 10.\n",
        "description:\tDetailed information, mainly for diagnosing problems during development.\n",
        "INFO: numerical value is 20.\n",
        "description: General information about program execution (e.g., confirmation that things are working).\n",
        "WARNING: numerical value is\t30.\n",
        "description: Indicates something unexpected or a potential problem, but not critical.\n",
        "ERROR: numerical value is\t40.\n",
        "description:\tA more serious issue — the program couldn’t perform a function.\n",
        "CRITICAL: numerical value is 50.\n",
        "description:\tA serious error — the program may not be able to continue running.\n",
        "   \n",
        "   Example:\n",
        "   \n",
        "\n",
        "\n",
        "\n",
        "\n",
        "\n",
        "\n",
        "\n",
        "\n",
        "\n",
        "\n",
        "\n",
        "\n",
        "\n",
        "\n",
        "\n",
        "\n",
        "\n",
        "\n",
        "\n",
        "\n",
        "\n",
        "\n",
        "\n",
        "\n"
      ],
      "metadata": {
        "id": "MfZP_SYpX5Fp"
      }
    },
    {
      "cell_type": "code",
      "source": [
        "import logging\n",
        "\n",
        "logging.basicConfig(level=logging.DEBUG)\n",
        "\n",
        "logging.debug(\"This is a debug message\")\n",
        "logging.info(\"This is an info message\")\n",
        "logging.warning(\"This is a warning\")\n",
        "logging.error(\"This is an error\")\n",
        "logging.critical(\"This is critical\")\n"
      ],
      "metadata": {
        "id": "1T9Flpq7a-mP"
      },
      "execution_count": null,
      "outputs": []
    },
    {
      "cell_type": "markdown",
      "source": [
        "You can set the logging level to control what gets output. For example, if you set it to WARNING, only warnings and above will show.\n",
        "\n",
        "\n",
        "18. What is the difference between os.fork() and multiprocessing in Python?\n",
        "- The difference between os.fork() & multiprocessing are\n",
        "    -1.  os.fork()\n",
        "Platform Support:\tUnix/Linux only\n",
        "Low-level or High-level: Low-level (direct system call)\n",
        "Ease of Use: Harder to use (manual setup)\n",
        "Process Management: You manage everything yourself\n",
        "Portability:\tNot portable (won’t work on Windows)\n",
        "Functionality: Only forks the current process\n",
        "  Multiprocessing:\n",
        "Platform Support: Cross-platform (Windows, macOS, Linux)\n",
        "Low-level or High-level: High-level (abstraction over fork())\n",
        "Ease of Use: Easier to use with classes/functions\n",
        "Process Management:Python manages communication, joining, etc.\n",
        "Portability:Portable across platforms\n",
        "Functionality: Offers pools, queues, pipes, etc.\n",
        "Example of os.fork() (UNIX only):\n",
        "\n",
        "\n",
        "\n",
        "\n",
        "\n",
        "\n",
        "\n",
        "\n",
        "\n",
        "\n"
      ],
      "metadata": {
        "id": "QRlLT_oZbCgt"
      }
    },
    {
      "cell_type": "code",
      "source": [
        "import os\n",
        "\n",
        "pid = os.fork()\n",
        "\n",
        "if pid == 0:\n",
        "    print(\"This is the child process.\")\n",
        "else:\n",
        "    print(\"This is the parent process.\")\n"
      ],
      "metadata": {
        "colab": {
          "base_uri": "https://localhost:8080/"
        },
        "id": "joG3PoS9dwbe",
        "outputId": "24700a57-aa1d-40dd-e008-e9f13c3e6729"
      },
      "execution_count": null,
      "outputs": [
        {
          "output_type": "stream",
          "name": "stdout",
          "text": [
            "This is the parent process.\n",
            "This is the child process."
          ]
        }
      ]
    },
    {
      "cell_type": "markdown",
      "source": [
        "\n",
        " Example of multiprocessing (Cross-platform):"
      ],
      "metadata": {
        "id": "ZnROW5qGd1kN"
      }
    },
    {
      "cell_type": "code",
      "source": [
        "from multiprocessing import Process\n",
        "\n",
        "def worker():\n",
        "    print(\"This is the child process.\")\n",
        "\n",
        "p = Process(target=worker)\n",
        "p.start()\n",
        "p.join()\n"
      ],
      "metadata": {
        "id": "gJqMSoj-eBBh"
      },
      "execution_count": null,
      "outputs": []
    },
    {
      "cell_type": "markdown",
      "source": [
        " its uses:\n",
        " os.fork() only if you're working on Unix/Linux and need low-level control.\n",
        "\n",
        " multiprocessing for cross-platform compatibility and easier process handling.\n",
        "\n",
        " 19. What is the importance of closing a file in Python?\n",
        "  - Importance of Closing a File in Python:\n",
        "\n",
        "-1. Frees System Resources:\n",
        ". Each open file uses system memory and file handles.\n",
        ". Closing a file releases those resources back to the system.\n",
        "\n",
        "-2. Writes Pending Data to Disk:\n",
        ". When writing to a file, data is often buffered (temporarily stored in memory).\n",
        ". close() flushes the buffer, ensuring all data is actually saved.\n",
        "\n",
        "-3. Prevents Data Corruption:\n",
        ". If a file remains open during a crash or power loss, data can get corrupted.\n",
        ". Closing the file reduces this risk.\n",
        "\n",
        "-4. Avoids File Access Errors:\n",
        ". Some operating systems or programs may lock a file while it's open.\n",
        ". Forgetting to close it can cause issues when trying to access or modify it later.\n",
        "\n",
        "-5. Best Practice:\n",
        ". It shows good discipline and is expected in professional, clean code.\n",
        "\n",
        "   Example:\n",
        "\n",
        "\n",
        "\n",
        "\n",
        "\n",
        "\n",
        "\n",
        "\n",
        "\n",
        "\n",
        " -\n",
        "\n"
      ],
      "metadata": {
        "id": "UWPYugwseGZe"
      }
    },
    {
      "cell_type": "code",
      "source": [
        "file = open(\"data.txt\", \"w\")\n",
        "file.write(\"Hello, world!\")\n",
        "file.close()  # Important!\n"
      ],
      "metadata": {
        "id": "Ry_Y1qrFfxUf"
      },
      "execution_count": null,
      "outputs": []
    },
    {
      "cell_type": "markdown",
      "source": [
        "Even better:Use with statement"
      ],
      "metadata": {
        "id": "JqbWRJ9sf1Vi"
      }
    },
    {
      "cell_type": "code",
      "source": [
        "with open(\"data.txt\", \"w\") as file:\n",
        "    file.write(\"Hello, world!\")\n",
        "# File is automatically closed here\n"
      ],
      "metadata": {
        "id": "GcVEoeKTf85t"
      },
      "execution_count": null,
      "outputs": []
    },
    {
      "cell_type": "markdown",
      "source": [
        "20. What is the difference between file.read() and file.readline() in Python?\n",
        "- Difference between file.read() and file.readline() in Python:\n",
        "\n",
        "Method: file.read()\n",
        "description: Reads the entire content of the file as one big string.\n",
        "method: file.readline()\n",
        "description:\tReads just one line from the file at a time.\n",
        "\n",
        "uses:\n",
        ". read() for small files or when you need everything at once.\n",
        ". readline() when reading files line-by-line or for memory efficiency.\n",
        "example for file.read()\n",
        "\n",
        "\n",
        "\n",
        "\n",
        "\n",
        "\n",
        "\n",
        "\n",
        "\n",
        "\n",
        "\n"
      ],
      "metadata": {
        "id": "GqdZaSqjgU-U"
      }
    },
    {
      "cell_type": "code",
      "source": [
        "with open(\"example.txt\", \"r\") as f:\n",
        "    content = f.read()\n",
        "    print(content)\n"
      ],
      "metadata": {
        "id": "EjAoswi1mqHY"
      },
      "execution_count": null,
      "outputs": []
    },
    {
      "cell_type": "markdown",
      "source": [
        "it is used when you want to read the whole file at once.\n",
        "         example for file.readline()"
      ],
      "metadata": {
        "id": "b77i5oYbmv-q"
      }
    },
    {
      "cell_type": "code",
      "source": [
        "with open(\"example.txt\", \"r\") as f:\n",
        "    line1 = f.readline()\n",
        "    line2 = f.readline()\n",
        "    print(line1, line2)\n"
      ],
      "metadata": {
        "id": "IHRd-sbSntbh"
      },
      "execution_count": null,
      "outputs": []
    },
    {
      "cell_type": "markdown",
      "source": [
        "it is used when you want to process one line at a time, which is useful for large files.\n",
        "\n",
        "21. What is the logging module in Python used for?\n",
        "- The logging module in Python is used to track events and messages that happen while your program is running — especially useful for debugging, monitoring, and auditing.\n",
        "\n",
        "Main Uses of logging:\n",
        "-1. Record program status\n",
        "\n",
        ". Keeps logs of what your code is doing and when.\n",
        "\n",
        ". Helps diagnose issues without stopping the program.\n",
        "\n",
        "-2.Error tracking\n",
        "\n",
        ". Automatically logs warnings, errors, and critical issues.\n",
        "\n",
        ". Easier to troubleshoot problems, especially in large or deployed apps.\n",
        "\n",
        "-3. Debugging\n",
        "\n",
        ". Use DEBUG level logs to understand the flow of your program.\n",
        "\n",
        "-4. Production Monitoring\n",
        "\n",
        ". Logs can be saved to files, viewed in real time, or sent to monitoring systems.\n",
        "\n",
        "-5. Custom messages\n",
        "\n",
        ". You can log custom messages to trace specific variables or steps.\n",
        "\n",
        " Benefits over print():\n",
        ". More control (log levels, formatting)\n",
        "\n",
        ". Can write to files, not just console\n",
        "\n",
        ". Can filter messages by severity\n",
        "\n",
        ". Better for long-term use and production environments\n",
        "\n",
        "        Example:\n",
        "\n",
        "\n",
        "\n",
        "\n",
        "\n",
        "\n",
        "\n",
        "\n"
      ],
      "metadata": {
        "id": "NmO3k-TOoCE9"
      }
    },
    {
      "cell_type": "code",
      "source": [
        "import logging\n",
        "\n",
        "logging.basicConfig(level=logging.INFO)\n",
        "\n",
        "logging.debug(\"Debugging info\")\n",
        "logging.info(\"App is starting\")\n",
        "logging.warning(\"This might be a problem\")\n",
        "logging.error(\"Something went wrong!\")\n",
        "logging.critical(\"Major failure!\")\n"
      ],
      "metadata": {
        "colab": {
          "base_uri": "https://localhost:8080/"
        },
        "id": "_Yha1iInqLiy",
        "outputId": "481a2925-ff24-4238-8d9d-6c8bce37e108"
      },
      "execution_count": null,
      "outputs": [
        {
          "output_type": "stream",
          "name": "stderr",
          "text": [
            "WARNING:root:This might be a problem\n",
            "ERROR:root:Something went wrong!\n",
            "CRITICAL:root:Major failure!\n"
          ]
        }
      ]
    },
    {
      "cell_type": "markdown",
      "source": [
        "22. F What is the os module in Python used for in file handling?\n",
        "- The os module in Python provides functions to interact with the operating system, and it's especially useful for file and directory operations — things like navigating folders, checking if files exist, or deleting files.\n",
        "\n",
        " Common File Handling Tasks with os Module:\n",
        "\n",
        "Task: Check if a file/folder exists.\n",
        "os Function: os.path.exists(\"file.txt\")\n",
        "Task: Get current working directory\n",
        "os function:os.getcwd()\n",
        "Task: Change directory\n",
        "os Function: os.chdir(\"path/\")\n",
        "Task: List files in a directory\n",
        "os Function: os.listdir(\"path/\")\n",
        "Task: Create a directory\n",
        "os Function: os.mkdir(\"new_folder\")\n",
        "Task: Remove a file\n",
        "os function:\tos.remove(\"file.txt\")\n",
        "Task: Remove a directory\n",
        "os Function: os.rmdir(\"folder\")\n",
        "Task: Join paths safely\n",
        "os Function: os.path.join(\"folder\", \"file.txt\")\n",
        "Task: Get file size\n",
        "os Function: os.path.getsize(\"file.txt\")\n"
      ],
      "metadata": {
        "id": "X1tnw9Z6qSf_"
      }
    },
    {
      "cell_type": "code",
      "source": [
        "import os\n",
        "\n",
        "# Check if a file exists\n",
        "if os.path.exists(\"data.txt\"):\n",
        "    print(\"File found!\")\n",
        "else:\n",
        "    print(\"File not found!\")\n",
        "\n",
        "# Delete a file\n",
        "if os.path.exists(\"old_file.txt\"):\n",
        "    os.remove(\"old_file.txt\")\n"
      ],
      "metadata": {
        "colab": {
          "base_uri": "https://localhost:8080/"
        },
        "id": "t1qE27tEsj90",
        "outputId": "cebe547c-1511-4b96-e5f0-b70b5b631ec2"
      },
      "execution_count": null,
      "outputs": [
        {
          "output_type": "stream",
          "name": "stdout",
          "text": [
            "File found!\n"
          ]
        }
      ]
    },
    {
      "cell_type": "markdown",
      "source": [
        "uses of Os\n",
        "it helps your program interact with the file system in a cross-platform way.\n",
        "\n",
        "23. What are the challenges associated with memory management in Python?\n",
        "- Challenges Associated with Memory Management in Python:\n",
        "1. Memory Leaks\n",
        ". Even with automatic garbage collection, memory leaks can still occur.\n",
        "\n",
        ". Happens when objects are unintentionally kept alive (e.g., in global lists, closures, or due to circular references not collected).\n",
        "\n",
        "2. Circular References\n",
        ". Python’s garbage collector can handle cycles, but it may not always collect them immediately, especially in complex object graphs.\n",
        "\n",
        ". If a program creates many cyclic references, cleanup can become inefficient.\n",
        "\n",
        "3. High Memory Usage\n",
        ". Python objects have more memory overhead compared to lower-level languages like C.\n",
        "\n",
        ". For example, a simple int in Python is much larger than in C due to metadata.\n",
        "\n",
        "4. Global Interpreter Lock (GIL)\n",
        ". While not directly about memory, the GIL can affect how threads share memory.\n",
        "\n",
        ". It limits multi-threaded performance and can cause inefficient memory usage in CPU-bound tasks.\n",
        "\n",
        "5. Unreleased External Resources\n",
        ". Files, sockets, and database connections may not be freed if not properly closed — even though memory is managed, external resources are not.\n",
        "\n",
        ". This can lead to resource leaks.\n",
        "\n",
        "6. Object Mutation and Identity Confusion\n",
        ". Mutable objects stored in containers (like lists, dicts) may hold references longer than expected.\n",
        "\n",
        ". Developers may forget these references exist, leading to retained memory.\n",
        "\n",
        " How to Mitigate These Challenges:\n",
        ". Use with statements for resource management (files, DB connections).\n",
        "\n",
        ". Use the gc module to monitor or manually trigger garbage collection.\n",
        "\n",
        ". Profile memory using tools like:\n",
        "\n",
        ". tracemalloc\n",
        "\n",
        ". objgraph\n",
        "\n",
        ". memory_profiler\n",
        "\n",
        ". Avoid unnecessary global references or long-lived containers holding data.\n",
        "\n",
        "\n",
        "24.  How do you raise an exception manually in Python?\n",
        "- we can raise an exception manually using the raise keyword, followed by the exception you want to throw.\n",
        "\n"
      ],
      "metadata": {
        "id": "BNjJY60Ystea"
      }
    },
    {
      "cell_type": "code",
      "source": [
        "raise ExceptionType(\"Custom error message\")\n"
      ],
      "metadata": {
        "id": "RK3tshcguonc"
      },
      "execution_count": null,
      "outputs": []
    },
    {
      "cell_type": "markdown",
      "source": [
        "Rasising a built in exception."
      ],
      "metadata": {
        "id": "LFNTyrLsuqWq"
      }
    },
    {
      "cell_type": "code",
      "source": [
        "x = -1\n",
        "if x < 0:\n",
        "    raise ValueError(\"x must be non-negative\")\n"
      ],
      "metadata": {
        "colab": {
          "base_uri": "https://localhost:8080/",
          "height": 176
        },
        "id": "L4SAThvJu7fS",
        "outputId": "d51c8b2d-8853-4963-95ce-d19bddc3c5e6"
      },
      "execution_count": null,
      "outputs": [
        {
          "output_type": "error",
          "ename": "ValueError",
          "evalue": "x must be non-negative",
          "traceback": [
            "\u001b[0;31m---------------------------------------------------------------------------\u001b[0m",
            "\u001b[0;31mValueError\u001b[0m                                Traceback (most recent call last)",
            "\u001b[0;32m<ipython-input-5-4d8a3e6238b9>\u001b[0m in \u001b[0;36m<cell line: 0>\u001b[0;34m()\u001b[0m\n\u001b[1;32m      1\u001b[0m \u001b[0mx\u001b[0m \u001b[0;34m=\u001b[0m \u001b[0;34m-\u001b[0m\u001b[0;36m1\u001b[0m\u001b[0;34m\u001b[0m\u001b[0;34m\u001b[0m\u001b[0m\n\u001b[1;32m      2\u001b[0m \u001b[0;32mif\u001b[0m \u001b[0mx\u001b[0m \u001b[0;34m<\u001b[0m \u001b[0;36m0\u001b[0m\u001b[0;34m:\u001b[0m\u001b[0;34m\u001b[0m\u001b[0;34m\u001b[0m\u001b[0m\n\u001b[0;32m----> 3\u001b[0;31m     \u001b[0;32mraise\u001b[0m \u001b[0mValueError\u001b[0m\u001b[0;34m(\u001b[0m\u001b[0;34m\"x must be non-negative\"\u001b[0m\u001b[0;34m)\u001b[0m\u001b[0;34m\u001b[0m\u001b[0;34m\u001b[0m\u001b[0m\n\u001b[0m",
            "\u001b[0;31mValueError\u001b[0m: x must be non-negative"
          ]
        }
      ]
    },
    {
      "cell_type": "markdown",
      "source": [
        "Raising a custom exception"
      ],
      "metadata": {
        "id": "ksyF3kvFuqjm"
      }
    },
    {
      "cell_type": "code",
      "source": [
        "class MyCustomError(Exception):\n",
        "    pass\n",
        "\n",
        "raise MyCustomError(\"Something went wrong!\")\n"
      ],
      "metadata": {
        "id": "sL5XVq4mvNtG"
      },
      "execution_count": null,
      "outputs": []
    },
    {
      "cell_type": "markdown",
      "source": [
        "when to use raise:\n",
        ". Input validation\n",
        ". Enforcing rules in functions or classes\n",
        ". Creating controlled failure points\n",
        ". Debugging or catching misuse of your code\n",
        "\n",
        "25. Why is it important to use multithreading in certain applications?\n",
        "- Multithreading allows a program to perform multiple operations at the same time, which can significantly improve efficiency and responsiveness — especially in the right situations.\n",
        "\n",
        " Key Reasons to Use Multithreading:\n",
        "1. Improves Responsiveness\n",
        "In GUI applications, multithreading helps keep the interface responsive while background tasks run (e.g., loading a file, downloading data).\n",
        "\n",
        "2. Handles I/O-bound Tasks Efficiently\n",
        ". Great for tasks like file access, web requests, or database operations.\n",
        "\n",
        ". While one thread waits, another can keep working.\n",
        "\n",
        "3. Better Use of Idle Time\n",
        ". Threads can run while others are waiting on external resources, making the most of system time.\n",
        "\n",
        "4. Parallel Execution of Independent Tasks\n",
        ". Multiple threads can handle independent subtasks (e.g., reading from multiple sensors, handling client connections in a server).\n",
        "\n",
        "5. Simplifies Design for Certain Problems\n",
        ". Some problems (like producer-consumer, background workers, etc.) are naturally modeled using threads.\n",
        "\n",
        "But... Note the Limitation:\n",
        "In CPython, due to the Global Interpreter Lock (GIL), threads don’t truly run in parallel for CPU-bound tasks. For that, multiprocessing is better.\n",
        "\n",
        " When to Use Multithreading:\n",
        "\n",
        "Good Use Cases:\n",
        "I/O-bound programs\n",
        "Network operations\n",
        "File and DB access\n",
        "\n",
        "Avoid (use multiprocessing instead)\n",
        "CPU-bound heavy computation\n",
        "Data processing or image rendering\n",
        "Machine learning / scientific computing.\n",
        "  \n",
        "\n",
        "  \n",
        "\n",
        "\n",
        "\n",
        "\n"
      ],
      "metadata": {
        "id": "kAx9repivS9d"
      }
    },
    {
      "cell_type": "code",
      "source": [
        "# practical questions.\n",
        "#1.  How can you open a file for writing in Python and write a string to it?\n",
        "\n",
        "with open(\"example.txt\", \"w\") as file:\n",
        "    file.write(\"Hello, this is a string written to the file.\")\n"
      ],
      "metadata": {
        "id": "eA8AOFHpxtWQ"
      },
      "execution_count": null,
      "outputs": []
    },
    {
      "cell_type": "code",
      "source": [
        "#2.Write a Python program to read the contents of a file and print each line?\n",
        "with open(\"example.txt\", \"r\") as file:\n",
        "    for line in file:\n",
        "        print(line.strip())"
      ],
      "metadata": {
        "colab": {
          "base_uri": "https://localhost:8080/"
        },
        "id": "K0KsGbYYyEni",
        "outputId": "743d3145-c0ad-4d6e-a81d-6e4580f565a7"
      },
      "execution_count": null,
      "outputs": [
        {
          "output_type": "stream",
          "name": "stdout",
          "text": [
            "Hello, this is a string written to the file.\n"
          ]
        }
      ]
    },
    {
      "cell_type": "code",
      "source": [
        "#3. How would you handle a case where the file doesn't exist while trying to open it for ?\n",
        "\n",
        "filename = \"nonexistent_file.txt\"\n",
        "\n",
        "try:\n",
        "    with open(filename, \"r\") as file:\n",
        "        content = file.read()\n",
        "        print(content)\n",
        "except FileNotFoundError:\n",
        "    print(f\"The file '{filename}' does not exist.\")\n"
      ],
      "metadata": {
        "colab": {
          "base_uri": "https://localhost:8080/"
        },
        "id": "L6y6RbNiyZat",
        "outputId": "7036e2cb-f988-43af-d55d-cfbe2e42d8e7"
      },
      "execution_count": null,
      "outputs": [
        {
          "output_type": "stream",
          "name": "stdout",
          "text": [
            "The file 'nonexistent_file.txt' does not exist.\n"
          ]
        }
      ]
    },
    {
      "cell_type": "code",
      "source": [
        "# 4. Write a Python script that reads from one file and writes its content to another file.\n",
        "try:\n",
        "    with open( source_file, \"r\") as src:\n",
        "      content = src.read()\n",
        "    with open(destination_file, \"w\") as dest:\n",
        "      dest.write(content)\n",
        "    print(f\"Content from '{source_file}' to '{destination_file}' successfully!\")\n",
        "except FileNotFoundError:\n",
        "    print(f\"Error: '{source_file}' does not exist.\")\n",
        "except Exception as e:\n",
        "    print(f\"An error occurred: {e}\")"
      ],
      "metadata": {
        "colab": {
          "base_uri": "https://localhost:8080/"
        },
        "id": "lSvgTKhPzT-g",
        "outputId": "e8b725d2-2613-428d-808a-9e2b1a48b5df"
      },
      "execution_count": null,
      "outputs": [
        {
          "output_type": "stream",
          "name": "stdout",
          "text": [
            "An error occurred: name 'source_file' is not defined\n"
          ]
        }
      ]
    },
    {
      "cell_type": "code",
      "source": [
        "# 5.  How would you catch and handle division by zero error in Python?\n",
        "try:\n",
        "    numerator = 10\n",
        "    denominator = 0\n",
        "    result = numerator / denominator\n",
        "    print(\"Result:\", result)\n",
        "except ZeroDivisionError:\n",
        "    print(\"Error: Cannot divide by zero.\")\n"
      ],
      "metadata": {
        "colab": {
          "base_uri": "https://localhost:8080/"
        },
        "id": "OYgqSRZvA8zP",
        "outputId": "9cbc4a40-2588-4d79-f9c4-f946497de680"
      },
      "execution_count": null,
      "outputs": [
        {
          "output_type": "stream",
          "name": "stdout",
          "text": [
            "Error: Cannot divide by zero.\n"
          ]
        }
      ]
    },
    {
      "cell_type": "code",
      "source": [
        "# 6. Write a Python program that logs an error message to a log file when a division by zero exception occurs.\n",
        "import logging\n",
        "\n",
        "logging.basicConfig(\n",
        "    filename=\"error_log.txt\",\n",
        "    level=logging.ERROR,\n",
        "    format=\"%(asctime)s - %(levelname)s - %(message)s\"\n",
        ")\n",
        "\n",
        "try:\n",
        "\n",
        "    numerator = 10\n",
        "    denominator = 0\n",
        "    result = numerator / denominator\n",
        "    print(\"Result:\", result)\n",
        "\n",
        "except ZeroDivisionError as e:\n",
        "    logging.error(\"Division by zero error occurred: %s\", e)\n",
        "    print(\"Oops! Division by zero. Error logged.\")\n"
      ],
      "metadata": {
        "colab": {
          "base_uri": "https://localhost:8080/"
        },
        "id": "sqhS4pzHFHWj",
        "outputId": "deb120af-a0f7-467b-e547-d7e1bc5cb3b5"
      },
      "execution_count": null,
      "outputs": [
        {
          "output_type": "stream",
          "name": "stderr",
          "text": [
            "ERROR:root:Division by zero error occurred: division by zero\n"
          ]
        },
        {
          "output_type": "stream",
          "name": "stdout",
          "text": [
            "Oops! Division by zero. Error logged.\n"
          ]
        }
      ]
    },
    {
      "cell_type": "code",
      "source": [
        "# 7. How do you log information at different levels (INFO, ERROR, WARNING) in Python using the logging module?\n",
        "import logging\n",
        "\n",
        "# Set up basic configuration for logging\n",
        "logging.basicConfig(\n",
        "    filename=\"app.log\",\n",
        "    level=logging.DEBUG,\n",
        "    format=\"%(asctime)s - %(levelname)s - %(message)s\"\n",
        ")\n",
        "\n",
        "# Log messages at different severity levels\n",
        "logging.debug(\"This is a DEBUG message (useful for developers).\")\n",
        "logging.info(\"This is an INFO message (general info).\")\n",
        "logging.warning(\"This is a WARNING message (something might be wrong).\")\n",
        "logging.error(\"This is an ERROR message (something went wrong).\")\n",
        "logging.critical(\"This is a CRITICAL message (serious failure).\")\n"
      ],
      "metadata": {
        "colab": {
          "base_uri": "https://localhost:8080/"
        },
        "id": "RL7obQ-xF1CQ",
        "outputId": "cb9aa224-98c2-4599-acd2-c243e04a4d89"
      },
      "execution_count": null,
      "outputs": [
        {
          "output_type": "stream",
          "name": "stderr",
          "text": [
            "WARNING:root:This is a WARNING message (something might be wrong).\n",
            "ERROR:root:This is an ERROR message (something went wrong).\n",
            "CRITICAL:root:This is a CRITICAL message (serious failure).\n"
          ]
        }
      ]
    },
    {
      "cell_type": "code",
      "source": [
        "# 8.  Write a program to handle a file opening error using exception handling.\n",
        "try:\n",
        "    # Attempt to open a file that may not exist\n",
        "    with open(\"my_file.txt\", \"r\") as file:\n",
        "        content = file.read()\n",
        "        print(\"File contents:\\n\", content)\n",
        "\n",
        "except FileNotFoundError:\n",
        "    print(\"Error: The file 'my_file.txt' was not found.\")\n",
        "\n",
        "except PermissionError:\n",
        "    print(\"Error: You do not have permission to access the file.\")\n",
        "\n",
        "except Exception as e:\n",
        "    print(f\"An unexpected error occurred: {e}\")\n"
      ],
      "metadata": {
        "colab": {
          "base_uri": "https://localhost:8080/"
        },
        "id": "VQ1OyBp-Gl2F",
        "outputId": "942d572b-b487-4210-a67b-61b9ec7c3d90"
      },
      "execution_count": null,
      "outputs": [
        {
          "output_type": "stream",
          "name": "stdout",
          "text": [
            "Error: The file 'my_file.txt' was not found.\n"
          ]
        }
      ]
    },
    {
      "cell_type": "code",
      "source": [
        "# 9. How can you read a file line by line and store its content in a list in Python?\n",
        "# Open the file in read mode\n",
        "with open(\"example.txt\", \"r\") as file:\n",
        "    lines = file.readlines()\n",
        "\n",
        "# Now 'lines' is a list of strings, each representing a line in the file\n",
        "print(lines)\n",
        "\n"
      ],
      "metadata": {
        "colab": {
          "base_uri": "https://localhost:8080/"
        },
        "id": "zs2ToK8KG45X",
        "outputId": "22302d28-088e-46c8-fb99-b83577ae5cd9"
      },
      "execution_count": null,
      "outputs": [
        {
          "output_type": "stream",
          "name": "stdout",
          "text": [
            "['Hello, this is a string written to the file.']\n"
          ]
        }
      ]
    },
    {
      "cell_type": "code",
      "source": [
        "# 10. How can you append data to an existing file in Python?\n",
        "# Open the file in append mode\n",
        "with open(\"example.txt\", \"a\") as file:\n",
        "    file.write(\"This line will be added to the end of the file.\\n\")\n"
      ],
      "metadata": {
        "id": "XVPiO3VSKyNJ"
      },
      "execution_count": null,
      "outputs": []
    },
    {
      "cell_type": "code",
      "source": [
        "# 11.  Write a Python program that uses a try-except block to handle an error when attempting to access a\n",
        "# dictionary key that doesn't exist?\n",
        "# Define a sample dictionary\n",
        "person = {\n",
        "    \"name\": \"Alice\",\n",
        "    \"age\": 30\n",
        "}\n",
        "\n",
        "try:\n",
        "    # Attempt to access a key that may not exist\n",
        "    print(\"Email:\", person[\"email\"])\n",
        "except KeyError:\n",
        "    print(\"Error: 'email' key not found in the dictionary.\")\n"
      ],
      "metadata": {
        "colab": {
          "base_uri": "https://localhost:8080/"
        },
        "id": "VxDU5XKoNFdr",
        "outputId": "6c9b31e2-e516-4a74-f49b-bab9f9ce43b7"
      },
      "execution_count": null,
      "outputs": [
        {
          "output_type": "stream",
          "name": "stdout",
          "text": [
            "Error: 'email' key not found in the dictionary.\n"
          ]
        }
      ]
    },
    {
      "cell_type": "code",
      "source": [
        "# 12. Write a program that demonstrates using multiple except blocks to handle different types of exceptions?\n",
        "try:\n",
        "    # Try dividing two numbers\n",
        "    num1 = int(input(\"Enter a numerator: \"))\n",
        "    num2 = int(input(\"Enter a denominator: \"))\n",
        "\n",
        "    # Perform division\n",
        "    result = num1 / num2\n",
        "    print(f\"The result of {num1} divided by {num2} is: {result}\")\n",
        "\n",
        "except ZeroDivisionError:\n",
        "    print(\"Error: Cannot divide by zero.\")\n",
        "\n",
        "except ValueError:\n",
        "    print(\"Error: Please enter valid integers.\")\n",
        "\n",
        "except Exception as e:\n",
        "    print(f\"An unexpected error occurred: {e}\")\n"
      ],
      "metadata": {
        "colab": {
          "base_uri": "https://localhost:8080/"
        },
        "id": "es3aEdjUNdMT",
        "outputId": "ebd87f10-6860-4f19-8efb-2b8e0de28cbe"
      },
      "execution_count": null,
      "outputs": [
        {
          "output_type": "stream",
          "name": "stdout",
          "text": [
            "Enter a numerator: 10\n",
            "Enter a denominator: 2\n",
            "The result of 10 divided by 2 is: 5.0\n"
          ]
        }
      ]
    },
    {
      "cell_type": "code",
      "source": [
        "# 13. How would you check if a file exists before attempting to read it in Python?\n",
        "import os\n",
        "\n",
        "filename = \"example.txt\"\n",
        "\n",
        "if os.path.exists(filename):\n",
        "    with open(filename, \"r\") as file:\n",
        "        content = file.read()\n",
        "        print(content)\n",
        "else:\n",
        "    print(f\"The file {filename} does not exist.\")\n"
      ],
      "metadata": {
        "colab": {
          "base_uri": "https://localhost:8080/"
        },
        "id": "MldIFy11OHMp",
        "outputId": "1172288a-29a3-4a63-9937-4e984d25d8e8"
      },
      "execution_count": null,
      "outputs": [
        {
          "output_type": "stream",
          "name": "stdout",
          "text": [
            "Hello, this is a string written to the file.This line will be added to the end of the file.\n",
            "This line will be added to the end of the file.\n",
            "\n"
          ]
        }
      ]
    },
    {
      "cell_type": "code",
      "source": [
        "# 14. Write a program that uses the logging module to log both informational and error messages.\n",
        "import logging\n",
        "\n",
        "# Configure the logging system\n",
        "logging.basicConfig(\n",
        "    filename='app.log',\n",
        "    level=logging.DEBUG,\n",
        "    format='%(asctime)s - %(levelname)s - %(message)s'\n",
        ")\n",
        "\n",
        "def divide_numbers(a, b):\n",
        "    logging.info(f\"Attempting to divide {a} by {b}\")\n",
        "    try:\n",
        "        result = a / b\n",
        "        logging.info(f\"Division successful: {a} / {b} = {result}\")\n",
        "        return result\n",
        "    except ZeroDivisionError as e:\n",
        "        logging.error(f\"Division by zero error: {e}\")\n",
        "    except Exception as e:\n",
        "        logging.error(f\"An unexpected error occurred: {e}\")\n",
        "\n",
        "# Sample function calls\n",
        "divide_numbers(10, 2)\n",
        "divide_numbers(10, 0)\n"
      ],
      "metadata": {
        "colab": {
          "base_uri": "https://localhost:8080/"
        },
        "id": "4yupQVdfOqUL",
        "outputId": "0ff6fe31-77e4-4db5-f887-9b52481e3a42"
      },
      "execution_count": null,
      "outputs": [
        {
          "output_type": "stream",
          "name": "stderr",
          "text": [
            "ERROR:root:Division by zero error: division by zero\n"
          ]
        }
      ]
    },
    {
      "cell_type": "code",
      "source": [
        "# 15.  Write a Python program that prints the content of a file and handles the case when the file is empty.\n",
        "def read_file(filename):\n",
        "    try:\n",
        "        with open(filename, 'r') as file:\n",
        "            content = file.read()\n",
        "            if not content:\n",
        "                print(f\"The file '{filename}' is empty.\")\n",
        "            else:\n",
        "                print(f\"Contents of '{filename}':\\n{content}\")\n",
        "    except FileNotFoundError:\n",
        "        print(f\"Error: The file '{filename}' was not found.\")\n",
        "    except Exception as e:\n",
        "        print(f\"An unexpected error occurred: {e}\")\n",
        "\n",
        "# Replace 'example.txt' with the path to your file\n",
        "read_file(\"example.txt\")\n"
      ],
      "metadata": {
        "colab": {
          "base_uri": "https://localhost:8080/"
        },
        "id": "Whiep788P0yw",
        "outputId": "c6ebc4b4-0130-489f-d2df-cf84d2aaa13e"
      },
      "execution_count": null,
      "outputs": [
        {
          "output_type": "stream",
          "name": "stdout",
          "text": [
            "Contents of 'example.txt':\n",
            "Hello, this is a string written to the file.This line will be added to the end of the file.\n",
            "This line will be added to the end of the file.\n",
            "\n"
          ]
        }
      ]
    },
    {
      "cell_type": "code",
      "source": [
        "# 16. Demonstrate how to use memory profiling to check the memory usage of a small program.\n",
        "\n",
        "!pip install memory-profiler\n",
        "\n",
        "\n",
        "\n"
      ],
      "metadata": {
        "colab": {
          "base_uri": "https://localhost:8080/"
        },
        "id": "iG-HCaGkQZy1",
        "outputId": "2648e4b7-1908-446f-dfef-261375673e47"
      },
      "execution_count": null,
      "outputs": [
        {
          "output_type": "stream",
          "name": "stdout",
          "text": [
            "Collecting memory-profiler\n",
            "  Downloading memory_profiler-0.61.0-py3-none-any.whl.metadata (20 kB)\n",
            "Requirement already satisfied: psutil in /usr/local/lib/python3.11/dist-packages (from memory-profiler) (5.9.5)\n",
            "Downloading memory_profiler-0.61.0-py3-none-any.whl (31 kB)\n",
            "Installing collected packages: memory-profiler\n",
            "Successfully installed memory-profiler-0.61.0\n"
          ]
        }
      ]
    },
    {
      "cell_type": "code",
      "source": [
        "from memory_profiler import profile\n",
        "\n",
        "@profile\n",
        "def simple_function():\n",
        "    my_list = [i for i in range(100000)]  # Create a list of 100,000 numbers\n",
        "    return my_list\n",
        "\n",
        "# Call the function\n",
        "simple_function()\n"
      ],
      "metadata": {
        "colab": {
          "base_uri": "https://localhost:8080/"
        },
        "id": "MCOrLSY5cxhM",
        "outputId": "689aaa25-47ab-4d39-c0f5-7cfeeff7b083"
      },
      "execution_count": null,
      "outputs": [
        {
          "output_type": "stream",
          "name": "stderr",
          "text": [
            "\n",
            "PYDEV DEBUGGER WARNING:\n",
            "sys.settrace() should not be used when the debugger is being used.\n",
            "This may cause the debugger to stop working correctly.\n",
            "If this is needed, please check: \n",
            "http://pydev.blogspot.com/2007/06/why-cant-pydev-debugger-work-with.html\n",
            "to see how to restore the debug tracing back correctly.\n",
            "Call Location:\n",
            "  File \"/usr/local/lib/python3.11/dist-packages/memory_profiler.py\", line 847, in enable\n",
            "    sys.settrace(self.trace_memory_usage)\n",
            "\n",
            "\n",
            "PYDEV DEBUGGER WARNING:\n",
            "sys.settrace() should not be used when the debugger is being used.\n",
            "This may cause the debugger to stop working correctly.\n",
            "If this is needed, please check: \n",
            "http://pydev.blogspot.com/2007/06/why-cant-pydev-debugger-work-with.html\n",
            "to see how to restore the debug tracing back correctly.\n",
            "Call Location:\n",
            "  File \"/usr/local/lib/python3.11/dist-packages/memory_profiler.py\", line 850, in disable\n",
            "    sys.settrace(self._original_trace_function)\n",
            "\n"
          ]
        },
        {
          "output_type": "stream",
          "name": "stdout",
          "text": [
            "ERROR: Could not find file <ipython-input-56-0af4de8b6e47>\n",
            "NOTE: %mprun can only be used on functions defined in physical files, and not in the IPython environment.\n"
          ]
        },
        {
          "output_type": "execute_result",
          "data": {
            "text/plain": [
              "[0,\n",
              " 1,\n",
              " 2,\n",
              " 3,\n",
              " 4,\n",
              " 5,\n",
              " 6,\n",
              " 7,\n",
              " 8,\n",
              " 9,\n",
              " 10,\n",
              " 11,\n",
              " 12,\n",
              " 13,\n",
              " 14,\n",
              " 15,\n",
              " 16,\n",
              " 17,\n",
              " 18,\n",
              " 19,\n",
              " 20,\n",
              " 21,\n",
              " 22,\n",
              " 23,\n",
              " 24,\n",
              " 25,\n",
              " 26,\n",
              " 27,\n",
              " 28,\n",
              " 29,\n",
              " 30,\n",
              " 31,\n",
              " 32,\n",
              " 33,\n",
              " 34,\n",
              " 35,\n",
              " 36,\n",
              " 37,\n",
              " 38,\n",
              " 39,\n",
              " 40,\n",
              " 41,\n",
              " 42,\n",
              " 43,\n",
              " 44,\n",
              " 45,\n",
              " 46,\n",
              " 47,\n",
              " 48,\n",
              " 49,\n",
              " 50,\n",
              " 51,\n",
              " 52,\n",
              " 53,\n",
              " 54,\n",
              " 55,\n",
              " 56,\n",
              " 57,\n",
              " 58,\n",
              " 59,\n",
              " 60,\n",
              " 61,\n",
              " 62,\n",
              " 63,\n",
              " 64,\n",
              " 65,\n",
              " 66,\n",
              " 67,\n",
              " 68,\n",
              " 69,\n",
              " 70,\n",
              " 71,\n",
              " 72,\n",
              " 73,\n",
              " 74,\n",
              " 75,\n",
              " 76,\n",
              " 77,\n",
              " 78,\n",
              " 79,\n",
              " 80,\n",
              " 81,\n",
              " 82,\n",
              " 83,\n",
              " 84,\n",
              " 85,\n",
              " 86,\n",
              " 87,\n",
              " 88,\n",
              " 89,\n",
              " 90,\n",
              " 91,\n",
              " 92,\n",
              " 93,\n",
              " 94,\n",
              " 95,\n",
              " 96,\n",
              " 97,\n",
              " 98,\n",
              " 99,\n",
              " 100,\n",
              " 101,\n",
              " 102,\n",
              " 103,\n",
              " 104,\n",
              " 105,\n",
              " 106,\n",
              " 107,\n",
              " 108,\n",
              " 109,\n",
              " 110,\n",
              " 111,\n",
              " 112,\n",
              " 113,\n",
              " 114,\n",
              " 115,\n",
              " 116,\n",
              " 117,\n",
              " 118,\n",
              " 119,\n",
              " 120,\n",
              " 121,\n",
              " 122,\n",
              " 123,\n",
              " 124,\n",
              " 125,\n",
              " 126,\n",
              " 127,\n",
              " 128,\n",
              " 129,\n",
              " 130,\n",
              " 131,\n",
              " 132,\n",
              " 133,\n",
              " 134,\n",
              " 135,\n",
              " 136,\n",
              " 137,\n",
              " 138,\n",
              " 139,\n",
              " 140,\n",
              " 141,\n",
              " 142,\n",
              " 143,\n",
              " 144,\n",
              " 145,\n",
              " 146,\n",
              " 147,\n",
              " 148,\n",
              " 149,\n",
              " 150,\n",
              " 151,\n",
              " 152,\n",
              " 153,\n",
              " 154,\n",
              " 155,\n",
              " 156,\n",
              " 157,\n",
              " 158,\n",
              " 159,\n",
              " 160,\n",
              " 161,\n",
              " 162,\n",
              " 163,\n",
              " 164,\n",
              " 165,\n",
              " 166,\n",
              " 167,\n",
              " 168,\n",
              " 169,\n",
              " 170,\n",
              " 171,\n",
              " 172,\n",
              " 173,\n",
              " 174,\n",
              " 175,\n",
              " 176,\n",
              " 177,\n",
              " 178,\n",
              " 179,\n",
              " 180,\n",
              " 181,\n",
              " 182,\n",
              " 183,\n",
              " 184,\n",
              " 185,\n",
              " 186,\n",
              " 187,\n",
              " 188,\n",
              " 189,\n",
              " 190,\n",
              " 191,\n",
              " 192,\n",
              " 193,\n",
              " 194,\n",
              " 195,\n",
              " 196,\n",
              " 197,\n",
              " 198,\n",
              " 199,\n",
              " 200,\n",
              " 201,\n",
              " 202,\n",
              " 203,\n",
              " 204,\n",
              " 205,\n",
              " 206,\n",
              " 207,\n",
              " 208,\n",
              " 209,\n",
              " 210,\n",
              " 211,\n",
              " 212,\n",
              " 213,\n",
              " 214,\n",
              " 215,\n",
              " 216,\n",
              " 217,\n",
              " 218,\n",
              " 219,\n",
              " 220,\n",
              " 221,\n",
              " 222,\n",
              " 223,\n",
              " 224,\n",
              " 225,\n",
              " 226,\n",
              " 227,\n",
              " 228,\n",
              " 229,\n",
              " 230,\n",
              " 231,\n",
              " 232,\n",
              " 233,\n",
              " 234,\n",
              " 235,\n",
              " 236,\n",
              " 237,\n",
              " 238,\n",
              " 239,\n",
              " 240,\n",
              " 241,\n",
              " 242,\n",
              " 243,\n",
              " 244,\n",
              " 245,\n",
              " 246,\n",
              " 247,\n",
              " 248,\n",
              " 249,\n",
              " 250,\n",
              " 251,\n",
              " 252,\n",
              " 253,\n",
              " 254,\n",
              " 255,\n",
              " 256,\n",
              " 257,\n",
              " 258,\n",
              " 259,\n",
              " 260,\n",
              " 261,\n",
              " 262,\n",
              " 263,\n",
              " 264,\n",
              " 265,\n",
              " 266,\n",
              " 267,\n",
              " 268,\n",
              " 269,\n",
              " 270,\n",
              " 271,\n",
              " 272,\n",
              " 273,\n",
              " 274,\n",
              " 275,\n",
              " 276,\n",
              " 277,\n",
              " 278,\n",
              " 279,\n",
              " 280,\n",
              " 281,\n",
              " 282,\n",
              " 283,\n",
              " 284,\n",
              " 285,\n",
              " 286,\n",
              " 287,\n",
              " 288,\n",
              " 289,\n",
              " 290,\n",
              " 291,\n",
              " 292,\n",
              " 293,\n",
              " 294,\n",
              " 295,\n",
              " 296,\n",
              " 297,\n",
              " 298,\n",
              " 299,\n",
              " 300,\n",
              " 301,\n",
              " 302,\n",
              " 303,\n",
              " 304,\n",
              " 305,\n",
              " 306,\n",
              " 307,\n",
              " 308,\n",
              " 309,\n",
              " 310,\n",
              " 311,\n",
              " 312,\n",
              " 313,\n",
              " 314,\n",
              " 315,\n",
              " 316,\n",
              " 317,\n",
              " 318,\n",
              " 319,\n",
              " 320,\n",
              " 321,\n",
              " 322,\n",
              " 323,\n",
              " 324,\n",
              " 325,\n",
              " 326,\n",
              " 327,\n",
              " 328,\n",
              " 329,\n",
              " 330,\n",
              " 331,\n",
              " 332,\n",
              " 333,\n",
              " 334,\n",
              " 335,\n",
              " 336,\n",
              " 337,\n",
              " 338,\n",
              " 339,\n",
              " 340,\n",
              " 341,\n",
              " 342,\n",
              " 343,\n",
              " 344,\n",
              " 345,\n",
              " 346,\n",
              " 347,\n",
              " 348,\n",
              " 349,\n",
              " 350,\n",
              " 351,\n",
              " 352,\n",
              " 353,\n",
              " 354,\n",
              " 355,\n",
              " 356,\n",
              " 357,\n",
              " 358,\n",
              " 359,\n",
              " 360,\n",
              " 361,\n",
              " 362,\n",
              " 363,\n",
              " 364,\n",
              " 365,\n",
              " 366,\n",
              " 367,\n",
              " 368,\n",
              " 369,\n",
              " 370,\n",
              " 371,\n",
              " 372,\n",
              " 373,\n",
              " 374,\n",
              " 375,\n",
              " 376,\n",
              " 377,\n",
              " 378,\n",
              " 379,\n",
              " 380,\n",
              " 381,\n",
              " 382,\n",
              " 383,\n",
              " 384,\n",
              " 385,\n",
              " 386,\n",
              " 387,\n",
              " 388,\n",
              " 389,\n",
              " 390,\n",
              " 391,\n",
              " 392,\n",
              " 393,\n",
              " 394,\n",
              " 395,\n",
              " 396,\n",
              " 397,\n",
              " 398,\n",
              " 399,\n",
              " 400,\n",
              " 401,\n",
              " 402,\n",
              " 403,\n",
              " 404,\n",
              " 405,\n",
              " 406,\n",
              " 407,\n",
              " 408,\n",
              " 409,\n",
              " 410,\n",
              " 411,\n",
              " 412,\n",
              " 413,\n",
              " 414,\n",
              " 415,\n",
              " 416,\n",
              " 417,\n",
              " 418,\n",
              " 419,\n",
              " 420,\n",
              " 421,\n",
              " 422,\n",
              " 423,\n",
              " 424,\n",
              " 425,\n",
              " 426,\n",
              " 427,\n",
              " 428,\n",
              " 429,\n",
              " 430,\n",
              " 431,\n",
              " 432,\n",
              " 433,\n",
              " 434,\n",
              " 435,\n",
              " 436,\n",
              " 437,\n",
              " 438,\n",
              " 439,\n",
              " 440,\n",
              " 441,\n",
              " 442,\n",
              " 443,\n",
              " 444,\n",
              " 445,\n",
              " 446,\n",
              " 447,\n",
              " 448,\n",
              " 449,\n",
              " 450,\n",
              " 451,\n",
              " 452,\n",
              " 453,\n",
              " 454,\n",
              " 455,\n",
              " 456,\n",
              " 457,\n",
              " 458,\n",
              " 459,\n",
              " 460,\n",
              " 461,\n",
              " 462,\n",
              " 463,\n",
              " 464,\n",
              " 465,\n",
              " 466,\n",
              " 467,\n",
              " 468,\n",
              " 469,\n",
              " 470,\n",
              " 471,\n",
              " 472,\n",
              " 473,\n",
              " 474,\n",
              " 475,\n",
              " 476,\n",
              " 477,\n",
              " 478,\n",
              " 479,\n",
              " 480,\n",
              " 481,\n",
              " 482,\n",
              " 483,\n",
              " 484,\n",
              " 485,\n",
              " 486,\n",
              " 487,\n",
              " 488,\n",
              " 489,\n",
              " 490,\n",
              " 491,\n",
              " 492,\n",
              " 493,\n",
              " 494,\n",
              " 495,\n",
              " 496,\n",
              " 497,\n",
              " 498,\n",
              " 499,\n",
              " 500,\n",
              " 501,\n",
              " 502,\n",
              " 503,\n",
              " 504,\n",
              " 505,\n",
              " 506,\n",
              " 507,\n",
              " 508,\n",
              " 509,\n",
              " 510,\n",
              " 511,\n",
              " 512,\n",
              " 513,\n",
              " 514,\n",
              " 515,\n",
              " 516,\n",
              " 517,\n",
              " 518,\n",
              " 519,\n",
              " 520,\n",
              " 521,\n",
              " 522,\n",
              " 523,\n",
              " 524,\n",
              " 525,\n",
              " 526,\n",
              " 527,\n",
              " 528,\n",
              " 529,\n",
              " 530,\n",
              " 531,\n",
              " 532,\n",
              " 533,\n",
              " 534,\n",
              " 535,\n",
              " 536,\n",
              " 537,\n",
              " 538,\n",
              " 539,\n",
              " 540,\n",
              " 541,\n",
              " 542,\n",
              " 543,\n",
              " 544,\n",
              " 545,\n",
              " 546,\n",
              " 547,\n",
              " 548,\n",
              " 549,\n",
              " 550,\n",
              " 551,\n",
              " 552,\n",
              " 553,\n",
              " 554,\n",
              " 555,\n",
              " 556,\n",
              " 557,\n",
              " 558,\n",
              " 559,\n",
              " 560,\n",
              " 561,\n",
              " 562,\n",
              " 563,\n",
              " 564,\n",
              " 565,\n",
              " 566,\n",
              " 567,\n",
              " 568,\n",
              " 569,\n",
              " 570,\n",
              " 571,\n",
              " 572,\n",
              " 573,\n",
              " 574,\n",
              " 575,\n",
              " 576,\n",
              " 577,\n",
              " 578,\n",
              " 579,\n",
              " 580,\n",
              " 581,\n",
              " 582,\n",
              " 583,\n",
              " 584,\n",
              " 585,\n",
              " 586,\n",
              " 587,\n",
              " 588,\n",
              " 589,\n",
              " 590,\n",
              " 591,\n",
              " 592,\n",
              " 593,\n",
              " 594,\n",
              " 595,\n",
              " 596,\n",
              " 597,\n",
              " 598,\n",
              " 599,\n",
              " 600,\n",
              " 601,\n",
              " 602,\n",
              " 603,\n",
              " 604,\n",
              " 605,\n",
              " 606,\n",
              " 607,\n",
              " 608,\n",
              " 609,\n",
              " 610,\n",
              " 611,\n",
              " 612,\n",
              " 613,\n",
              " 614,\n",
              " 615,\n",
              " 616,\n",
              " 617,\n",
              " 618,\n",
              " 619,\n",
              " 620,\n",
              " 621,\n",
              " 622,\n",
              " 623,\n",
              " 624,\n",
              " 625,\n",
              " 626,\n",
              " 627,\n",
              " 628,\n",
              " 629,\n",
              " 630,\n",
              " 631,\n",
              " 632,\n",
              " 633,\n",
              " 634,\n",
              " 635,\n",
              " 636,\n",
              " 637,\n",
              " 638,\n",
              " 639,\n",
              " 640,\n",
              " 641,\n",
              " 642,\n",
              " 643,\n",
              " 644,\n",
              " 645,\n",
              " 646,\n",
              " 647,\n",
              " 648,\n",
              " 649,\n",
              " 650,\n",
              " 651,\n",
              " 652,\n",
              " 653,\n",
              " 654,\n",
              " 655,\n",
              " 656,\n",
              " 657,\n",
              " 658,\n",
              " 659,\n",
              " 660,\n",
              " 661,\n",
              " 662,\n",
              " 663,\n",
              " 664,\n",
              " 665,\n",
              " 666,\n",
              " 667,\n",
              " 668,\n",
              " 669,\n",
              " 670,\n",
              " 671,\n",
              " 672,\n",
              " 673,\n",
              " 674,\n",
              " 675,\n",
              " 676,\n",
              " 677,\n",
              " 678,\n",
              " 679,\n",
              " 680,\n",
              " 681,\n",
              " 682,\n",
              " 683,\n",
              " 684,\n",
              " 685,\n",
              " 686,\n",
              " 687,\n",
              " 688,\n",
              " 689,\n",
              " 690,\n",
              " 691,\n",
              " 692,\n",
              " 693,\n",
              " 694,\n",
              " 695,\n",
              " 696,\n",
              " 697,\n",
              " 698,\n",
              " 699,\n",
              " 700,\n",
              " 701,\n",
              " 702,\n",
              " 703,\n",
              " 704,\n",
              " 705,\n",
              " 706,\n",
              " 707,\n",
              " 708,\n",
              " 709,\n",
              " 710,\n",
              " 711,\n",
              " 712,\n",
              " 713,\n",
              " 714,\n",
              " 715,\n",
              " 716,\n",
              " 717,\n",
              " 718,\n",
              " 719,\n",
              " 720,\n",
              " 721,\n",
              " 722,\n",
              " 723,\n",
              " 724,\n",
              " 725,\n",
              " 726,\n",
              " 727,\n",
              " 728,\n",
              " 729,\n",
              " 730,\n",
              " 731,\n",
              " 732,\n",
              " 733,\n",
              " 734,\n",
              " 735,\n",
              " 736,\n",
              " 737,\n",
              " 738,\n",
              " 739,\n",
              " 740,\n",
              " 741,\n",
              " 742,\n",
              " 743,\n",
              " 744,\n",
              " 745,\n",
              " 746,\n",
              " 747,\n",
              " 748,\n",
              " 749,\n",
              " 750,\n",
              " 751,\n",
              " 752,\n",
              " 753,\n",
              " 754,\n",
              " 755,\n",
              " 756,\n",
              " 757,\n",
              " 758,\n",
              " 759,\n",
              " 760,\n",
              " 761,\n",
              " 762,\n",
              " 763,\n",
              " 764,\n",
              " 765,\n",
              " 766,\n",
              " 767,\n",
              " 768,\n",
              " 769,\n",
              " 770,\n",
              " 771,\n",
              " 772,\n",
              " 773,\n",
              " 774,\n",
              " 775,\n",
              " 776,\n",
              " 777,\n",
              " 778,\n",
              " 779,\n",
              " 780,\n",
              " 781,\n",
              " 782,\n",
              " 783,\n",
              " 784,\n",
              " 785,\n",
              " 786,\n",
              " 787,\n",
              " 788,\n",
              " 789,\n",
              " 790,\n",
              " 791,\n",
              " 792,\n",
              " 793,\n",
              " 794,\n",
              " 795,\n",
              " 796,\n",
              " 797,\n",
              " 798,\n",
              " 799,\n",
              " 800,\n",
              " 801,\n",
              " 802,\n",
              " 803,\n",
              " 804,\n",
              " 805,\n",
              " 806,\n",
              " 807,\n",
              " 808,\n",
              " 809,\n",
              " 810,\n",
              " 811,\n",
              " 812,\n",
              " 813,\n",
              " 814,\n",
              " 815,\n",
              " 816,\n",
              " 817,\n",
              " 818,\n",
              " 819,\n",
              " 820,\n",
              " 821,\n",
              " 822,\n",
              " 823,\n",
              " 824,\n",
              " 825,\n",
              " 826,\n",
              " 827,\n",
              " 828,\n",
              " 829,\n",
              " 830,\n",
              " 831,\n",
              " 832,\n",
              " 833,\n",
              " 834,\n",
              " 835,\n",
              " 836,\n",
              " 837,\n",
              " 838,\n",
              " 839,\n",
              " 840,\n",
              " 841,\n",
              " 842,\n",
              " 843,\n",
              " 844,\n",
              " 845,\n",
              " 846,\n",
              " 847,\n",
              " 848,\n",
              " 849,\n",
              " 850,\n",
              " 851,\n",
              " 852,\n",
              " 853,\n",
              " 854,\n",
              " 855,\n",
              " 856,\n",
              " 857,\n",
              " 858,\n",
              " 859,\n",
              " 860,\n",
              " 861,\n",
              " 862,\n",
              " 863,\n",
              " 864,\n",
              " 865,\n",
              " 866,\n",
              " 867,\n",
              " 868,\n",
              " 869,\n",
              " 870,\n",
              " 871,\n",
              " 872,\n",
              " 873,\n",
              " 874,\n",
              " 875,\n",
              " 876,\n",
              " 877,\n",
              " 878,\n",
              " 879,\n",
              " 880,\n",
              " 881,\n",
              " 882,\n",
              " 883,\n",
              " 884,\n",
              " 885,\n",
              " 886,\n",
              " 887,\n",
              " 888,\n",
              " 889,\n",
              " 890,\n",
              " 891,\n",
              " 892,\n",
              " 893,\n",
              " 894,\n",
              " 895,\n",
              " 896,\n",
              " 897,\n",
              " 898,\n",
              " 899,\n",
              " 900,\n",
              " 901,\n",
              " 902,\n",
              " 903,\n",
              " 904,\n",
              " 905,\n",
              " 906,\n",
              " 907,\n",
              " 908,\n",
              " 909,\n",
              " 910,\n",
              " 911,\n",
              " 912,\n",
              " 913,\n",
              " 914,\n",
              " 915,\n",
              " 916,\n",
              " 917,\n",
              " 918,\n",
              " 919,\n",
              " 920,\n",
              " 921,\n",
              " 922,\n",
              " 923,\n",
              " 924,\n",
              " 925,\n",
              " 926,\n",
              " 927,\n",
              " 928,\n",
              " 929,\n",
              " 930,\n",
              " 931,\n",
              " 932,\n",
              " 933,\n",
              " 934,\n",
              " 935,\n",
              " 936,\n",
              " 937,\n",
              " 938,\n",
              " 939,\n",
              " 940,\n",
              " 941,\n",
              " 942,\n",
              " 943,\n",
              " 944,\n",
              " 945,\n",
              " 946,\n",
              " 947,\n",
              " 948,\n",
              " 949,\n",
              " 950,\n",
              " 951,\n",
              " 952,\n",
              " 953,\n",
              " 954,\n",
              " 955,\n",
              " 956,\n",
              " 957,\n",
              " 958,\n",
              " 959,\n",
              " 960,\n",
              " 961,\n",
              " 962,\n",
              " 963,\n",
              " 964,\n",
              " 965,\n",
              " 966,\n",
              " 967,\n",
              " 968,\n",
              " 969,\n",
              " 970,\n",
              " 971,\n",
              " 972,\n",
              " 973,\n",
              " 974,\n",
              " 975,\n",
              " 976,\n",
              " 977,\n",
              " 978,\n",
              " 979,\n",
              " 980,\n",
              " 981,\n",
              " 982,\n",
              " 983,\n",
              " 984,\n",
              " 985,\n",
              " 986,\n",
              " 987,\n",
              " 988,\n",
              " 989,\n",
              " 990,\n",
              " 991,\n",
              " 992,\n",
              " 993,\n",
              " 994,\n",
              " 995,\n",
              " 996,\n",
              " 997,\n",
              " 998,\n",
              " 999,\n",
              " ...]"
            ]
          },
          "metadata": {},
          "execution_count": 56
        }
      ]
    },
    {
      "cell_type": "code",
      "source": [
        "# 17. Write a Python program to create and write a list of numbers to a file, one number per line.\n",
        "# List of numbers to write\n",
        "numbers = [1, 2, 3, 4, 5, 6, 7, 8, 9, 10]\n",
        "\n",
        "# Open the file in write mode\n",
        "with open(\"numbers.txt\", \"w\") as file:\n",
        "    for number in numbers:\n",
        "        file.write(f\"{number}\\n\")\n",
        "\n",
        "print(\"Numbers have been written to 'numbers.txt'\")\n"
      ],
      "metadata": {
        "colab": {
          "base_uri": "https://localhost:8080/"
        },
        "id": "SgalhT5aVE6K",
        "outputId": "547bacbc-2d5a-4c70-c968-06c10a941f49"
      },
      "execution_count": null,
      "outputs": [
        {
          "output_type": "stream",
          "name": "stdout",
          "text": [
            "Numbers have been written to 'numbers.txt'\n"
          ]
        }
      ]
    },
    {
      "cell_type": "code",
      "source": [
        "# 18.  How would you implement a basic logging setup that logs to a file with rotation after 1MB?\n",
        "import logging\n",
        "from logging.handlers import RotatingFileHandler\n",
        "\n",
        "# Set up a rotating file handler\n",
        "log_handler = RotatingFileHandler(\n",
        "    \"app.log\",              # Log file name\n",
        "    maxBytes=1 * 1024 * 1024,  # 1MB size limit\n",
        "    backupCount=3              # Keep up to 3 backup log files\n",
        ")\n",
        "\n",
        "# Optional: customize the log format\n",
        "formatter = logging.Formatter('%(asctime)s - %(levelname)s - %(message)s')\n",
        "log_handler.setFormatter(formatter)\n",
        "\n",
        "# Set up the root logger\n",
        "logger = logging.getLogger()\n",
        "logger.setLevel(logging.DEBUG)\n",
        "logger.addHandler(log_handler)\n",
        "\n",
        "# Example log messages\n",
        "logger.info(\"This is an info message.\")\n",
        "logger.error(\"This is an error message.\")\n"
      ],
      "metadata": {
        "colab": {
          "base_uri": "https://localhost:8080/"
        },
        "id": "xlv8c9xpV8pa",
        "outputId": "87d834ea-3df1-4e60-9472-0f0ae422a59f"
      },
      "execution_count": null,
      "outputs": [
        {
          "output_type": "stream",
          "name": "stderr",
          "text": [
            "INFO:root:This is an info message.\n",
            "ERROR:root:This is an error message.\n"
          ]
        }
      ]
    },
    {
      "cell_type": "code",
      "source": [
        "# 19. Write a program that handles both IndexError and KeyError using a try-except block.\n",
        "def access_data():\n",
        "    my_list = [10, 20, 30]\n",
        "    my_dict = {\"name\": \"Alice\", \"age\": 25}\n",
        "\n",
        "    try:\n",
        "        # Trying to access an invalid index in the list\n",
        "        print(\"List item:\", my_list[5])\n",
        "\n",
        "        # Trying to access a non-existent key in the dictionary\n",
        "        print(\"Email:\", my_dict[\"email\"])\n",
        "\n",
        "    except IndexError:\n",
        "        print(\"Error: List index is out of range.\")\n",
        "\n",
        "    except KeyError:\n",
        "        print(\"Error: Key not found in dictionary.\")\n",
        "\n",
        "# Run the function\n",
        "access_data()\n"
      ],
      "metadata": {
        "colab": {
          "base_uri": "https://localhost:8080/"
        },
        "id": "VzuoDwPeXRkl",
        "outputId": "fa7cfc67-8f9a-430d-deab-800585efe933"
      },
      "execution_count": null,
      "outputs": [
        {
          "output_type": "stream",
          "name": "stdout",
          "text": [
            "Error: List index is out of range.\n"
          ]
        }
      ]
    },
    {
      "cell_type": "code",
      "source": [
        "# 20. How would you open a file and read its contents using a context manager in Python?\n",
        "\n",
        "with open(\"example.txt\", \"r\") as file:\n",
        "    content = file.read()\n",
        "    print(content)\n"
      ],
      "metadata": {
        "colab": {
          "base_uri": "https://localhost:8080/"
        },
        "id": "_iG8xiBcX8tR",
        "outputId": "754b2b40-e26c-45b5-dd32-f11952339873"
      },
      "execution_count": null,
      "outputs": [
        {
          "output_type": "stream",
          "name": "stdout",
          "text": [
            "Hello, this is a string written to the file.This line will be added to the end of the file.\n",
            "This line will be added to the end of the file.\n",
            "\n"
          ]
        }
      ]
    },
    {
      "cell_type": "code",
      "source": [
        "# 21.Write a Python program that reads a file and prints the number of occurrences of a specific word\n",
        "def count_word_occurrences(filename, word_to_count):\n",
        "    try:\n",
        "        with open(filename, 'r') as file:\n",
        "            content = file.read()\n",
        "\n",
        "\n",
        "            content = content.lower()\n",
        "            word_to_count = word_to_count.lower()\n",
        "\n",
        "\n",
        "            words = content.split()\n",
        "\n",
        "\n",
        "            count = words.count(word_to_count)\n",
        "            print(f\"The word '{word_to_count}' occurred {count} times in '{filename}'.\")\n",
        "\n",
        "    except FileNotFoundError:\n",
        "        print(f\"Error: The file '{filename}' does not exist.\")\n",
        "    except Exception as e:\n",
        "        print(f\"An unexpected error occurred: {e}\")\n",
        "\n",
        "\n",
        "count_word_occurrences(\"example.txt\", \"python\")\n"
      ],
      "metadata": {
        "colab": {
          "base_uri": "https://localhost:8080/"
        },
        "id": "9JlhGyEKYYL8",
        "outputId": "8e8c5810-2e83-4e9d-8ebf-d4a09662f173"
      },
      "execution_count": null,
      "outputs": [
        {
          "output_type": "stream",
          "name": "stdout",
          "text": [
            "The word 'python' occurred 0 times in 'example.txt'.\n"
          ]
        }
      ]
    },
    {
      "cell_type": "code",
      "source": [
        "# 22. How can you check if a file is empty before attempting to read its contents?\n",
        "import os\n",
        "\n",
        "filename = \"example.txt\"\n",
        "\n",
        "#check if the file is empty\n",
        "if os.path.exists(filename) and os.stat(filename).st_size == 0:\n",
        "    print(f\"The file '{filename}' is empty.\")\n",
        "else:\n",
        "    with open(filename, 'r') as file:\n",
        "        content = file.read()\n",
        "        print(content)\n"
      ],
      "metadata": {
        "colab": {
          "base_uri": "https://localhost:8080/"
        },
        "id": "qE-jY6-jYxKB",
        "outputId": "35c99da6-2116-41d8-aded-85a7899c445f"
      },
      "execution_count": null,
      "outputs": [
        {
          "output_type": "stream",
          "name": "stdout",
          "text": [
            "Hello, this is a string written to the file.This line will be added to the end of the file.\n",
            "This line will be added to the end of the file.\n",
            "\n"
          ]
        }
      ]
    },
    {
      "cell_type": "code",
      "source": [
        "# 23. Write a Python program that writes to a log file when an error occurs during file handling.\n",
        "import logging\n",
        "\n",
        "# Set up the logging configuration\n",
        "logging.basicConfig(\n",
        "    filename='file_errors.log',       # Log file to write to\n",
        "    level=logging.ERROR,              # Only log ERROR level and above\n",
        "    format='%(asctime)s - %(levelname)s - %(message)s'  # Log format\n",
        ")\n",
        "\n",
        "def read_file(filename):\n",
        "    try:\n",
        "        with open(filename, 'r') as file:\n",
        "            content = file.read()\n",
        "            print(content)\n",
        "    except FileNotFoundError:\n",
        "        logging.error(f\"File '{filename}' not found.\")\n",
        "        print(f\"Error: The file '{filename}' does not exist.\")\n",
        "    except PermissionError:\n",
        "        logging.error(f\"Permission denied while trying to open '{filename}'.\")\n",
        "        print(f\"Error: Permission denied for '{filename}'.\")\n",
        "    except Exception as e:\n",
        "        logging.error(f\"An unexpected error occurred while handling '{filename}': {e}\")\n",
        "        print(f\"An unexpected error occurred: {e}\")\n",
        "\n",
        "# Example usage: Try reading a non-existent file\n",
        "read_file(\"non_existent_file.txt\")\n"
      ],
      "metadata": {
        "colab": {
          "base_uri": "https://localhost:8080/"
        },
        "id": "KWdgD6xcZQU2",
        "outputId": "a5f5db0e-3f83-48a9-b6f1-0d5f6e009f75"
      },
      "execution_count": null,
      "outputs": [
        {
          "output_type": "stream",
          "name": "stderr",
          "text": [
            "ERROR:root:File 'non_existent_file.txt' not found.\n"
          ]
        },
        {
          "output_type": "stream",
          "name": "stdout",
          "text": [
            "Error: The file 'non_existent_file.txt' does not exist.\n"
          ]
        }
      ]
    },
    {
      "cell_type": "code",
      "source": [],
      "metadata": {
        "id": "egt6ZIOWZoUT"
      },
      "execution_count": null,
      "outputs": []
    }
  ]
}